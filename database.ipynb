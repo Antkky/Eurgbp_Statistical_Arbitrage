{
 "cells": [
  {
   "cell_type": "code",
   "execution_count": null,
   "metadata": {
    "vscode": {
     "languageId": "plaintext"
    }
   },
   "outputs": [],
   "source": [
    "import boto3\n",
    "import os\n",
    "\n",
    "# AWS credentials should be configured in ~/.aws/credentials or environment variables\n",
    "s3 = boto3.client('s3')\n",
    "\n",
    "def download_folder(bucket_name, folder_name, local_dir):\n",
    "    \"\"\"Download all files from a specific folder inside an S3 bucket.\"\"\"\n",
    "    if not os.path.exists(local_dir):\n",
    "        os.makedirs(local_dir)\n",
    "\n",
    "    paginator = s3.get_paginator('list_objects_v2')\n",
    "    for page in paginator.paginate(Bucket=bucket_name, Prefix=folder_name):\n",
    "        if 'Contents' in page:\n",
    "            for obj in page['Contents']:\n",
    "                file_key = obj['Key']\n",
    "                if file_key.endswith('/'):\n",
    "                    continue  # Skip folders\n",
    "\n",
    "                file_name = os.path.basename(file_key)\n",
    "                local_file_path = os.path.join(local_dir, file_name)\n",
    "                print(f\"Downloading {file_key} to {local_file_path}\")\n",
    "                s3.download_file(bucket_name, file_key, local_file_path)\n",
    "\n",
    "# Example usage\n",
    "bucket_name = \"your-bucket-name\"\n",
    "folder_name = \"your-folder-name/\"  # Ensure it ends with '/'\n",
    "local_dir = \"./downloaded_files\"\n",
    "\n",
    "download_folder(bucket_name, folder_name, local_dir)"
   ]
  }
 ],
 "metadata": {
  "language_info": {
   "name": "python"
  }
 },
 "nbformat": 4,
 "nbformat_minor": 2
}
